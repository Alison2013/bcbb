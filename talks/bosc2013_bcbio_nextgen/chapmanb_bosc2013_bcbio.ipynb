{
 "metadata": {
  "name": ""
 },
 "nbformat": 3,
 "nbformat_minor": 0,
 "worksheets": [
  {
   "cells": [
    {
     "cell_type": "markdown",
     "metadata": {
      "slideshow": {
       "slide_type": "slide"
      }
     },
     "source": [
      "## Community development of quantifiable and scalable variant calling pipelines\n",
      "\n",
      "<div class=\"author\">\n",
      "Brad Chapman<br>\n",
      "Bioinformatics Core, Harvard School of Public Health<br>\n",
      "<a href=\"https://github.com/chapmanb\">@chapmanb</a><br>\n",
      "20 July 2013<br>\n",
      "</div>"
     ]
    },
    {
     "cell_type": "markdown",
     "metadata": {
      "slideshow": {
       "slide_type": "slide"
      }
     },
     "source": [
      "<img alt=\"highlevel\" src=\"files/images/bcbio_nextgen_highlevel.png\" width=\"1000\"/>"
     ]
    },
    {
     "cell_type": "markdown",
     "metadata": {
      "slideshow": {
       "slide_type": "slide"
      }
     },
     "source": [
      "## Development goals\n",
      "\n",
      "- Quantifiable: assess variant quality\n",
      "- Scalable: 1500 whole genome samples\n",
      "- Reproducible: text-configurable, provenance, version tracking\n",
      "- Community developed: open source, documented and widely deployable\n",
      "- Accessible: Usable by researchers and non-scientists"
     ]
    },
    {
     "cell_type": "markdown",
     "metadata": {
      "slideshow": {
       "slide_type": "slide"
      }
     },
     "source": [
      "## Quantify quality\n",
      "\n",
      "<img src=\"files/images/grading-summary-prep-callerdiff.png\" width=\"900\">\n",
      "\n",
      "- Reference materials: [http://www.genomeinabottle.org](http://www.genomeinabottle.org)\n",
      "- Quantification details: [http://j.mp/bcbioeval](http://j.mp/bcbioeval)"
     ]
    },
    {
     "cell_type": "markdown",
     "metadata": {
      "slideshow": {
       "slide_type": "slide"
      }
     },
     "source": [
      "## Parallel scaling\n",
      "\n",
      "<img src=\"files/images/parallel-clustertypes.png\" width=\"900\">\n",
      "\n",
      "Infrastructure details: [http://j.mp/bcbioscale](http://j.mp/bcbioscale)"
     ]
    }
   ],
   "metadata": {}
  }
 ]
}